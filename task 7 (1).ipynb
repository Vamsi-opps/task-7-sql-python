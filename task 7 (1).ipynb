{
 "cells": [
  {
   "cell_type": "code",
   "execution_count": 10,
   "id": "e1f4e8c1-8e4a-4127-948b-6358cddefc07",
   "metadata": {},
   "outputs": [],
   "source": [
    "# Install SQLite3 (comes built in with python)\n",
    "import sqlite3\n",
    "\n",
    "# Install Panas for data analysis\n",
    "import pandas as pd\n",
    "\n",
    "# Install Seaborn & Matplotlib for visualization\n",
    "import matplotlib.pyplot as plt\n",
    "import seaborn as sns\n",
    "\n",
    "# This method hides any warnings in your Jupyter Notebook.\n",
    "import warnings\n",
    "warnings.filterwarnings(\"ignore\")"
   ]
  },
  {
   "cell_type": "code",
   "execution_count": 12,
   "id": "ef29a1cd-8e06-4de7-9ced-71f9c49d8562",
   "metadata": {},
   "outputs": [],
   "source": [
    "# Connect to SQLite database (creates a new file if it doesn't exist)\n",
    "conn = sqlite3.connect(\"customer_data.db\")\n",
    "\n",
    "# Create a cursor to interact with the database\n",
    "cursor = conn.cursor()\n",
    "\n",
    "# Create a sample table\n",
    "cursor.execute(\"\"\"\n",
    "CREATE TABLE IF NOT EXISTS customers (\n",
    "id INTEGER PRIMARY KEY AUTOINCREMENT,\n",
    "name TEXT,\n",
    "age INTERGER,\n",
    "city TEXT,\n",
    "total_spent_ REAL\n",
    ")\n",
    "\"\"\")\n",
    "\n",
    "# Commit and close connection\n",
    "conn.commit()\n"
   ]
  },
  {
   "cell_type": "code",
   "execution_count": 14,
   "id": "ed7458f9-f209-4d1b-a5f7-9982d02acf4d",
   "metadata": {},
   "outputs": [],
   "source": [
    "# Sample data to insert\n",
    "customers=[\n",
    "(\"Alice Johnson\", 28, \"New York\", 500.75),\n",
    "(\"Bob Smith\", 35, \"Los Angeles\", 1200.50),\n",
    "(\"Charlie Brown\", 22, \"Chicago\", 330.40),\n",
    "(\"David White\", 40, \"Houston\", 980.90),\n",
    "(\"Emma Wilson\", 31, \"San Francisco\", 700.60)\n",
    "]\n",
    "\n",
    "# Insert data into table\n",
    "cursor.executemany(\"INSERT INTO customers (name, age, city, total_spent) VALUES (?, ?, ?, ?)\", customers)\n",
    "\n",
    "# Commit changes\n",
    "conn.commit()"
   ]
  },
  {
   "cell_type": "code",
   "execution_count": 16,
   "id": "de422d7d-a028-4d60-a9c5-fac70ed63759",
   "metadata": {},
   "outputs": [
    {
     "data": {
      "text/html": [
       "<div>\n",
       "<style scoped>\n",
       "    .dataframe tbody tr th:only-of-type {\n",
       "        vertical-align: middle;\n",
       "    }\n",
       "\n",
       "    .dataframe tbody tr th {\n",
       "        vertical-align: top;\n",
       "    }\n",
       "\n",
       "    .dataframe thead th {\n",
       "        text-align: right;\n",
       "    }\n",
       "</style>\n",
       "<table border=\"1\" class=\"dataframe\">\n",
       "  <thead>\n",
       "    <tr style=\"text-align: right;\">\n",
       "      <th></th>\n",
       "      <th>id</th>\n",
       "      <th>name</th>\n",
       "      <th>age</th>\n",
       "      <th>city</th>\n",
       "      <th>total_spent_</th>\n",
       "      <th>total_spent</th>\n",
       "    </tr>\n",
       "  </thead>\n",
       "  <tbody>\n",
       "    <tr>\n",
       "      <th>0</th>\n",
       "      <td>1</td>\n",
       "      <td>Alice Johnson</td>\n",
       "      <td>28</td>\n",
       "      <td>New York</td>\n",
       "      <td>None</td>\n",
       "      <td>NaN</td>\n",
       "    </tr>\n",
       "    <tr>\n",
       "      <th>1</th>\n",
       "      <td>2</td>\n",
       "      <td>Bob Smith</td>\n",
       "      <td>35</td>\n",
       "      <td>Los Angeles</td>\n",
       "      <td>None</td>\n",
       "      <td>NaN</td>\n",
       "    </tr>\n",
       "    <tr>\n",
       "      <th>2</th>\n",
       "      <td>3</td>\n",
       "      <td>Charlie Brown</td>\n",
       "      <td>22</td>\n",
       "      <td>Chicago</td>\n",
       "      <td>None</td>\n",
       "      <td>NaN</td>\n",
       "    </tr>\n",
       "    <tr>\n",
       "      <th>3</th>\n",
       "      <td>4</td>\n",
       "      <td>David White</td>\n",
       "      <td>40</td>\n",
       "      <td>Houston</td>\n",
       "      <td>None</td>\n",
       "      <td>NaN</td>\n",
       "    </tr>\n",
       "    <tr>\n",
       "      <th>4</th>\n",
       "      <td>5</td>\n",
       "      <td>Emma Wilson</td>\n",
       "      <td>31</td>\n",
       "      <td>San Francisco</td>\n",
       "      <td>None</td>\n",
       "      <td>NaN</td>\n",
       "    </tr>\n",
       "  </tbody>\n",
       "</table>\n",
       "</div>"
      ],
      "text/plain": [
       "   id           name  age           city total_spent_  total_spent\n",
       "0   1  Alice Johnson   28       New York         None          NaN\n",
       "1   2      Bob Smith   35    Los Angeles         None          NaN\n",
       "2   3  Charlie Brown   22        Chicago         None          NaN\n",
       "3   4    David White   40        Houston         None          NaN\n",
       "4   5    Emma Wilson   31  San Francisco         None          NaN"
      ]
     },
     "execution_count": 16,
     "metadata": {},
     "output_type": "execute_result"
    }
   ],
   "source": [
    "# Run a SQL query to retrieve all customer data\n",
    "query = \"SELECT * FROM customers\"\n",
    "df = pd.read_sql(query, conn)  # Store query results in a Pandas DataFrame\n",
    "\n",
    "# Display the data\n",
    "df.head()"
   ]
  },
  {
   "cell_type": "code",
   "execution_count": 18,
   "id": "ef65ba35-e7d2-4303-9915-dbb327fd3d7f",
   "metadata": {},
   "outputs": [],
   "source": [
    "cursor.execute(\"\"\"\n",
    "CREATE TABLE IF NOT EXISTS customers (\n",
    "    name TEXT,\n",
    "    age INTEGER,\n",
    "    city TEXT,\n",
    "    total_spent REAL\n",
    ")\n",
    "\"\"\")\n",
    "conn.commit()\n"
   ]
  },
  {
   "cell_type": "code",
   "execution_count": 20,
   "id": "4819ec8a-d9d7-4377-916a-a343a5428fe2",
   "metadata": {},
   "outputs": [],
   "source": [
    "# Remove total_spent from both data and SQL\n",
    "customers = [\n",
    "    (\"Alice Johnson\", 28, \"New York\"),\n",
    "    (\"Bob Smith\", 35, \"Los Angeles\"),\n",
    "    (\"Charlie Brown\", 22, \"Chicago\"),\n",
    "    (\"David White\", 40, \"Houston\"),\n",
    "    (\"Emma Wilson\", 31, \"San Francisco\")\n",
    "]\n",
    "\n",
    "cursor.executemany(\"INSERT INTO customers (name, age, city) VALUES (?, ?, ?)\", customers)\n",
    "conn.commit()\n"
   ]
  },
  {
   "cell_type": "code",
   "execution_count": 22,
   "id": "928e470e-f068-4d1f-8d0f-daa3a798a371",
   "metadata": {},
   "outputs": [
    {
     "name": "stdout",
     "output_type": "stream",
     "text": [
      "(1, 'Alice Johnson', 28, 'New York', None, None)\n",
      "(2, 'Bob Smith', 35, 'Los Angeles', None, None)\n",
      "(3, 'Charlie Brown', 22, 'Chicago', None, None)\n",
      "(4, 'David White', 40, 'Houston', None, None)\n",
      "(5, 'Emma Wilson', 31, 'San Francisco', None, None)\n",
      "(6, 'Alice Johnson', 28, 'New York', None, 500.75)\n",
      "(7, 'Bob Smith', 35, 'Los Angeles', None, 1200.5)\n",
      "(8, 'Charlie Brown', 22, 'Chicago', None, 330.4)\n",
      "(9, 'David White', 40, 'Houston', None, 980.9)\n",
      "(10, 'Emma Wilson', 31, 'San Francisco', None, 700.6)\n",
      "(11, 'Alice Johnson', 28, 'New York', None, 500.75)\n",
      "(12, 'Bob Smith', 35, 'Los Angeles', None, 1200.5)\n",
      "(13, 'Charlie Brown', 22, 'Chicago', None, 330.4)\n",
      "(14, 'David White', 40, 'Houston', None, 980.9)\n",
      "(15, 'Emma Wilson', 31, 'San Francisco', None, 700.6)\n",
      "(16, 'Alice Johnson', 28, 'New York', None, 500.75)\n",
      "(17, 'Bob Smith', 35, 'Los Angeles', None, 1200.5)\n",
      "(18, 'Charlie Brown', 22, 'Chicago', None, 330.4)\n",
      "(19, 'David White', 40, 'Houston', None, 980.9)\n",
      "(20, 'Emma Wilson', 31, 'San Francisco', None, 700.6)\n",
      "(21, 'Alice Johnson', 28, 'New York', None, 500.75)\n",
      "(22, 'Bob Smith', 35, 'Los Angeles', None, 1200.5)\n",
      "(23, 'Charlie Brown', 22, 'Chicago', None, 330.4)\n",
      "(24, 'David White', 40, 'Houston', None, 980.9)\n",
      "(25, 'Emma Wilson', 31, 'San Francisco', None, 700.6)\n",
      "(26, 'Alice Johnson', 28, 'New York', None, None)\n",
      "(27, 'Bob Smith', 35, 'Los Angeles', None, None)\n",
      "(28, 'Charlie Brown', 22, 'Chicago', None, None)\n",
      "(29, 'David White', 40, 'Houston', None, None)\n",
      "(30, 'Emma Wilson', 31, 'San Francisco', None, None)\n"
     ]
    }
   ],
   "source": [
    "cursor.execute(\"SELECT * FROM customers\")\n",
    "rows = cursor.fetchall()\n",
    "\n",
    "for row in rows:\n",
    "    print(row)\n"
   ]
  },
  {
   "cell_type": "code",
   "execution_count": 24,
   "id": "96a374ef-646b-416b-9d82-29aeec2cadaf",
   "metadata": {},
   "outputs": [
    {
     "name": "stdout",
     "output_type": "stream",
     "text": [
      "(8, 'Charlie Brown', 22, 'Chicago', None, 330.4)\n",
      "(13, 'Charlie Brown', 22, 'Chicago', None, 330.4)\n",
      "(18, 'Charlie Brown', 22, 'Chicago', None, 330.4)\n",
      "(23, 'Charlie Brown', 22, 'Chicago', None, 330.4)\n"
     ]
    }
   ],
   "source": [
    "cursor.execute(\"SELECT * FROM customers WHERE total_spent < 500\")\n",
    "rows = cursor.fetchall()\n",
    "\n",
    "for row in rows:\n",
    "    print(row)\n"
   ]
  },
  {
   "cell_type": "code",
   "execution_count": 26,
   "id": "84da55b2-221a-4592-a1bb-96ced8b37f49",
   "metadata": {},
   "outputs": [
    {
     "name": "stdout",
     "output_type": "stream",
     "text": [
      "Average Age: 31.2\n"
     ]
    }
   ],
   "source": [
    "cursor.execute(\"SELECT AVG(age) FROM customers\")\n",
    "average_age = cursor.fetchone()[0]\n",
    "print(\"Average Age:\", average_age)\n"
   ]
  },
  {
   "cell_type": "code",
   "execution_count": 28,
   "id": "48314b9f-d2f0-4aaa-a765-97f1398ac7b6",
   "metadata": {},
   "outputs": [
    {
     "name": "stdout",
     "output_type": "stream",
     "text": [
      "Total Spent: 14852.6\n"
     ]
    }
   ],
   "source": [
    "cursor.execute(\"SELECT SUM(total_spent) FROM customers\")\n",
    "total_spent_sum = cursor.fetchone()[0]\n",
    "print(\"Total Spent:\", total_spent_sum)\n"
   ]
  },
  {
   "cell_type": "code",
   "execution_count": 30,
   "id": "fe7f8ca5-0a4c-4095-bf85-bff4ee45eab9",
   "metadata": {},
   "outputs": [
    {
     "name": "stdout",
     "output_type": "stream",
     "text": [
      "City: Chicago, Total Spent: 1321.6\n",
      "City: Houston, Total Spent: 3923.6\n",
      "City: Los Angeles, Total Spent: 4802.0\n",
      "City: New York, Total Spent: 2003.0\n",
      "City: San Francisco, Total Spent: 2802.4\n"
     ]
    }
   ],
   "source": [
    "cursor.execute(\"SELECT city, SUM(total_spent) FROM customers GROUP BY city\")\n",
    "rows = cursor.fetchall()\n",
    "\n",
    "for row in rows:\n",
    "    print(f\"City: {row[0]}, Total Spent: {row[1]}\")\n"
   ]
  },
  {
   "cell_type": "code",
   "execution_count": 32,
   "id": "3b3dcff3-73f4-486c-8047-3812f474420a",
   "metadata": {},
   "outputs": [
    {
     "name": "stdout",
     "output_type": "stream",
     "text": [
      "City: Chicago, Number of Customers: 6\n",
      "City: Houston, Number of Customers: 6\n",
      "City: Los Angeles, Number of Customers: 6\n",
      "City: New York, Number of Customers: 6\n",
      "City: San Francisco, Number of Customers: 6\n"
     ]
    }
   ],
   "source": [
    "cursor.execute(\"SELECT city, COUNT(*) FROM customers GROUP BY city\")\n",
    "rows = cursor.fetchall()\n",
    "\n",
    "for row in rows:\n",
    "    print(f\"City: {row[0]}, Number of Customers: {row[1]}\")\n"
   ]
  },
  {
   "cell_type": "code",
   "execution_count": 34,
   "id": "3b1deb31-5d64-4617-a430-e064382f8d5e",
   "metadata": {},
   "outputs": [
    {
     "data": {
      "image/png": "[encoded data removed]",
      "text/plain": [
       "<Figure size 800x500 with 1 Axes>"
      ]
     },
     "metadata": {},
     "output_type": "display_data"
    }
   ],
   "source": [
    "# Run SQL query and store results in DataFrame\n",
    "query = \"SELECT city, SUM(total_spent) AS total_sales FROM customers GROUP BY city\"\n",
    "df_sales = pd.read_sql(query, conn)\n",
    "\n",
    "# Plot the data\n",
    "plt.figure(figsize=(8, 5))\n",
    "sns.barplot(x=\"city\", y=\"total_sales\", data=df_sales, palette=\"coolwarm\")\n",
    "plt.xticks(rotation=45)\n",
    "plt.title(\"Total Sales by City\")\n",
    "plt.show()"
   ]
  },
  {
   "cell_type": "code",
   "execution_count": 36,
   "id": "ba9edee7-caea-4fa4-8b52-eef394aa347b",
   "metadata": {},
   "outputs": [],
   "source": [
    "conn.close()"
   ]
  },
  {
   "cell_type": "code",
   "execution_count": null,
   "id": "466d82b5-9963-42ea-8863-b933cddc5094",
   "metadata": {},
   "outputs": [],
   "source": []
  }
 ],
 "metadata": {
  "kernelspec": {
   "display_name": "Python [conda env:base] *",
   "language": "python",
   "name": "conda-base-py"
  },
  "language_info": {
   "codemirror_mode": {
    "name": "ipython",
    "version": 3
   },
   "file_extension": ".py",
   "mimetype": "text/x-python",
   "name": "python",
   "nbconvert_exporter": "python",
   "pygments_lexer": "ipython3",
   "version": "3.12.7"
  }
 },
 "nbformat": 4,
 "nbformat_minor": 5
}
